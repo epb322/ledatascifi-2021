{
 "cells": [
  {
   "cell_type": "markdown",
   "metadata": {},
   "source": [
    "# Finance Basics for Pandas\n",
    "\n",
    "\n"
   ]
  },
  {
   "cell_type": "markdown",
   "metadata": {},
   "source": [
    "#### How to compound returns\n",
    "\n",
    "Let $r_t = (P_t+D_t)/P_{t-1}$ be the simple return for a single period with dividends included. \n",
    "\n",
    "Let $R_t = (1+r_t)$ be the **gross** (thus, the capital \"R\") return for a single period.\n",
    "\n",
    "Then the gross return for a number of periods is\n",
    "\n",
    "\\begin{equation}\n",
    "R[0,T] = \\prod_{t=1}^T R_t\n",
    "\\end{equation}\n",
    "\n",
    "and the return for the same set of periods is simply the above minus 1.\n",
    "\n",
    "\\begin{align}\n",
    "r[0,T] = & R[0,T] - 1  \\\\\n",
    "= & (\\prod_{t=1}^T R_t) - 1\n",
    "\\end{align}\n",
    "\n",
    "There is one more way to compute the gross return: \"Sum the log returns, then exponentiate\":\n",
    "\n",
    "\\begin{align}\n",
    "R[0,T] = & \\prod_{t=1}^T R_t \\\\\n",
    "       = & \\prod_{t=1}^T ( e(ln( R_t))        ) \\\\\n",
    "       = & e(\\sum_{t=1}^T ln(R_t)) \\\\\n",
    "\\end{align}\n",
    "the second line works because $e(ln(x))=x$ and the last line works because $e^a*e^b*e^c=e^{a+b+c}$.\n",
    "\n",
    "\n",
    "\n",
    "\n"
   ]
  },
  {
   "cell_type": "code",
   "execution_count": null,
   "metadata": {},
   "outputs": [],
   "source": [
    "(df\n",
    " .groupby(['asset','tiemperiod'])\n",
    " .agg(ret = lambda x: ((1+x['ret']).prod())-1 )"
   ]
  }
 ],
 "metadata": {
  "kernelspec": {
   "display_name": "Python 3",
   "language": "python",
   "name": "python3"
  },
  "language_info": {
   "codemirror_mode": {
    "name": "ipython",
    "version": 3
   },
   "file_extension": ".py",
   "mimetype": "text/x-python",
   "name": "python",
   "nbconvert_exporter": "python",
   "pygments_lexer": "ipython3",
   "version": "3.8.5"
  }
 },
 "nbformat": 4,
 "nbformat_minor": 4
}
