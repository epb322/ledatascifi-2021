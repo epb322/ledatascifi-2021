{
 "cells": [
  {
   "cell_type": "markdown",
   "metadata": {},
   "source": [
    "# Merging\n",
    "\n",
    "You've already merged datasets. But so far, our examples have been \"well-behaved\" so it was easy to just proceed. But real world datasets are messy (bad variable names, poor documentation) and big, and so merging isn't always as easy as \"just do it\".\n",
    "\n",
    "\n",
    "\n",
    "## Important parameters of `pd.merge()`\n",
    "\n",
    "Read through the [parameters of the function here](https://pandas.pydata.org/pandas-docs/stable/reference/api/pandas.DataFrame.merge.html). \n",
    "\n",
    "- `right = <df>`, `left = <df>` - name of your datasets\n",
    "- `on = <var>` or `on = [<var1>,<var2>,...]` - what variable(s) to use to match from the left and right datasets. These are your \"keys\". \n",
    "    - if the variable names aren't the same in the datasets (e.g. \"ID\" in one and \"identity\" in the other), use `left_on` and `right_on` instead of `on`\n",
    "    - if the variables are the index variables, use `left_index = True` and/or `right_index = True` instead of `on`\n",
    "- `how` - what observations are in the resulting dataset, [see below](#how-:-left-v.-right-v.-inner-v.-outer)\n",
    "- `suffix` - if a variable is in both datasets, how should we name each. \n",
    "    - **It's a good idea to always use this option and specify the source, because the default option makes uninformative variable names! **\n",
    "- `indicator=True` will create a variable saying which dataset the variable came from\n",
    "- `validate` = \"one_to_one\", \"one_to_many\", or \"many_to_one\". Will check if the merge is actually what you think it is. Useful!"
   ]
  },
  {
   "cell_type": "markdown",
   "metadata": {},
   "source": [
    "## Tips and best practices\n",
    "\n",
    "````{warning}\n",
    "```{tip}\n",
    "⭐⭐⭐ **THESE ARE IMPORTANT** ⭐⭐⭐\n",
    "```\n",
    "````\n",
    "\n",
    "1. **Pick the \"keys\" you'll merge on**\n",
    "    1. What are the observation units in each of your datasets? \n",
    "    1. What variable (**or variables**) should you be merging on? For example: Should you merge based on the firm, or the firm AND the year?  \n",
    "        <br>\n",
    "        **I usually merge with as many levels of units as are in both datasets.** So if I have two firm-year datasets, I merge on firm year. If I have an asset-day dataset (stock returns) and a daily dataset (returns for the overall stock market), merge on the date. \n",
    "1. **Before (before!) your merge, examine the keys**\n",
    "    1. Drop any observations with missing keys in each dataset\n",
    "    2. How many unique keys are in each dataset? Simply replace `df` and `keyvars` in this: `len(df[<keyvars>].drop_duplicates()`\n",
    "    3. What will the observation unit be after your merge? E.g., if you have a firm dataset, and a weekly dataset, the resulting dataset might be a firm-week data.     \n",
    "1. **Always specify `how`, `on`, `indicator`, and `validate` inside `pd.merge()`**\n",
    "    1. This will force you to think about the observation levels in each dataset you're merging before you try the merge, and whether the merge you're doing is 1:1, 1:M, M:M, or M:1.\n",
    "    2. Guess how many observations you'll have (more or less than left? more or less than right or left?) and then check afterwards. \n",
    "1. **After the merge**, check that it did what you expected, and give the resulting dataframe a _good_ name. **Don't name it \"merged\"!!!**\n",
    "    1. Look at a good chunk of data before and after the merge. This is just following the \"look at the data\" golden rule.     \n",
    "    1. Examine the `_merge` variable (value_counts, e.g.)\n",
    "    1. Good names: I often actively name the dataframe to the new observation level. \n",
    "    \n",
    "        _For example, I know exactly how `state_industry_year_df` and `state_industry_df` should differ._     \n",
    "    \n",
    "````{warning}\n",
    "If I see assignments with a line like `merged=pd.merge()`, I'll mark that down automatically. \n",
    "````    \n"
   ]
  },
  {
   "cell_type": "markdown",
   "metadata": {},
   "source": [
    "## `how` : left v. right v. inner v. outer\n",
    "\n",
    "| option | observations in resulting dataset |\n",
    "| :--- | :--- |\n",
    "`how = \"inner\"`| Keys (`on` variables) that are in both datasets \n",
    "`how = \"left\"` | \"inner\" + all unmatched obs in left \n",
    "`how = \"right\"` | \"inner\" + all unmatched obs in right\n",
    "`how = \"outer\"` | \"inner\" + all unmatched obs in left and right\n",
    "\n",
    "Let's illustrate that:\n",
    "\n",
    "\n",
    "![](img/merges.png)\n",
    "\n",
    "\n",
    "\n",
    "\n",
    "### Practice\n",
    "\n",
    "Do a left, right, inner, and outer merge on these datasets to confirm the illustration on `how`:"
   ]
  },
  {
   "cell_type": "code",
   "execution_count": 1,
   "metadata": {},
   "outputs": [],
   "source": [
    "import pandas as pd\n",
    "left_df = pd.DataFrame({\n",
    "                    'firm': ['Accenture','Citi','GS'],\n",
    "                    'varA': ['A1', 'A2', 'A3']})\n",
    "\n",
    "right_df = pd.DataFrame({\n",
    "                    'firm': ['GS','Chase','WF'],\n",
    "                    'varB': ['B1', 'B2', 'B3'],\n",
    "                    'varc': ['C1', 'C2', 'C3']})                             \n"
   ]
  },
  {
   "cell_type": "markdown",
   "metadata": {},
   "source": [
    "## Categories of joins\n",
    "\n",
    "An important concept in merging is about how the keys you're merging on are unique or not. You should be prepared that your merge might be:\n",
    "- **1:1**: The keys in each dataset are all unique\n",
    "- **1:M**: The keys in right dataset have some duplicates\n",
    "- **M:1**: The keys in left dataset have some duplicates \n",
    "- **M:1**: The keys in both datasets have some duplicates\n",
    "\n",
    "What the [pandas documentation](https://pandas.pydata.org/pandas-docs/stable/user_guide/merging.html#database-style-dataframe-or-named-series-joining-merging) says is:\n",
    "\n",
    "> In SQL / standard relational algebra, if a key combination appears more than once in [either or both] tables, the resulting table will have the Cartesian product of the associated data. \n",
    "\n",
    "That sounds complicated. What it means is: For a given row of data in the left dataset, we find all rows in the right dataset with the same key, and create that many rows in the merged dataset. \n",
    "\n",
    "That might sounds only a little less complicated than the quote from the pandas docs. Let me just show you:\n"
   ]
  },
  {
   "cell_type": "code",
   "execution_count": 2,
   "metadata": {},
   "outputs": [
    {
     "data": {
      "text/html": [
       "<div>\n",
       "<style scoped>\n",
       "    .dataframe tbody tr th:only-of-type {\n",
       "        vertical-align: middle;\n",
       "    }\n",
       "\n",
       "    .dataframe tbody tr th {\n",
       "        vertical-align: top;\n",
       "    }\n",
       "\n",
       "    .dataframe thead th {\n",
       "        text-align: right;\n",
       "    }\n",
       "</style>\n",
       "<table border=\"1\" class=\"dataframe\">\n",
       "  <thead>\n",
       "    <tr style=\"text-align: right;\">\n",
       "      <th></th>\n",
       "      <th>firm</th>\n",
       "      <th>v1</th>\n",
       "    </tr>\n",
       "  </thead>\n",
       "  <tbody>\n",
       "    <tr>\n",
       "      <th>0</th>\n",
       "      <td>Citi</td>\n",
       "      <td>Alpha</td>\n",
       "    </tr>\n",
       "    <tr>\n",
       "      <th>1</th>\n",
       "      <td>Citi</td>\n",
       "      <td>Bravo</td>\n",
       "    </tr>\n",
       "  </tbody>\n",
       "</table>\n",
       "</div>"
      ],
      "text/plain": [
       "   firm     v1\n",
       "0  Citi  Alpha\n",
       "1  Citi  Bravo"
      ]
     },
     "metadata": {},
     "output_type": "display_data"
    }
   ],
   "source": [
    "left_df = pd.DataFrame({\n",
    "                    'firm': ['Citi','Citi',],\n",
    "                    'v1': ['Alpha', 'Bravo']})\n",
    "display(left_df)"
   ]
  },
  {
   "cell_type": "code",
   "execution_count": 3,
   "metadata": {},
   "outputs": [
    {
     "data": {
      "text/html": [
       "<div>\n",
       "<style scoped>\n",
       "    .dataframe tbody tr th:only-of-type {\n",
       "        vertical-align: middle;\n",
       "    }\n",
       "\n",
       "    .dataframe tbody tr th {\n",
       "        vertical-align: top;\n",
       "    }\n",
       "\n",
       "    .dataframe thead th {\n",
       "        text-align: right;\n",
       "    }\n",
       "</style>\n",
       "<table border=\"1\" class=\"dataframe\">\n",
       "  <thead>\n",
       "    <tr style=\"text-align: right;\">\n",
       "      <th></th>\n",
       "      <th>firm</th>\n",
       "      <th>v2</th>\n",
       "    </tr>\n",
       "  </thead>\n",
       "  <tbody>\n",
       "    <tr>\n",
       "      <th>0</th>\n",
       "      <td>Citi</td>\n",
       "      <td>Charlie</td>\n",
       "    </tr>\n",
       "    <tr>\n",
       "      <th>1</th>\n",
       "      <td>Citi</td>\n",
       "      <td>Delta</td>\n",
       "    </tr>\n",
       "    <tr>\n",
       "      <th>2</th>\n",
       "      <td>WF</td>\n",
       "      <td>Echo</td>\n",
       "    </tr>\n",
       "  </tbody>\n",
       "</table>\n",
       "</div>"
      ],
      "text/plain": [
       "   firm       v2\n",
       "0  Citi  Charlie\n",
       "1  Citi    Delta\n",
       "2    WF     Echo"
      ]
     },
     "metadata": {},
     "output_type": "display_data"
    }
   ],
   "source": [
    "right_df = pd.DataFrame({\n",
    "                    'firm': ['Citi','Citi','WF'],\n",
    "                    'v2': ['Charlie','Delta','Echo']})    \n",
    "display(right_df)\n"
   ]
  },
  {
   "cell_type": "code",
   "execution_count": 4,
   "metadata": {},
   "outputs": [
    {
     "data": {
      "text/html": [
       "<div>\n",
       "<style scoped>\n",
       "    .dataframe tbody tr th:only-of-type {\n",
       "        vertical-align: middle;\n",
       "    }\n",
       "\n",
       "    .dataframe tbody tr th {\n",
       "        vertical-align: top;\n",
       "    }\n",
       "\n",
       "    .dataframe thead th {\n",
       "        text-align: right;\n",
       "    }\n",
       "</style>\n",
       "<table border=\"1\" class=\"dataframe\">\n",
       "  <thead>\n",
       "    <tr style=\"text-align: right;\">\n",
       "      <th></th>\n",
       "      <th>firm</th>\n",
       "      <th>v1</th>\n",
       "      <th>v2</th>\n",
       "    </tr>\n",
       "  </thead>\n",
       "  <tbody>\n",
       "    <tr>\n",
       "      <th>0</th>\n",
       "      <td>Citi</td>\n",
       "      <td>Alpha</td>\n",
       "      <td>Charlie</td>\n",
       "    </tr>\n",
       "    <tr>\n",
       "      <th>1</th>\n",
       "      <td>Citi</td>\n",
       "      <td>Alpha</td>\n",
       "      <td>Delta</td>\n",
       "    </tr>\n",
       "    <tr>\n",
       "      <th>2</th>\n",
       "      <td>Citi</td>\n",
       "      <td>Bravo</td>\n",
       "      <td>Charlie</td>\n",
       "    </tr>\n",
       "    <tr>\n",
       "      <th>3</th>\n",
       "      <td>Citi</td>\n",
       "      <td>Bravo</td>\n",
       "      <td>Delta</td>\n",
       "    </tr>\n",
       "  </tbody>\n",
       "</table>\n",
       "</div>"
      ],
      "text/plain": [
       "   firm     v1       v2\n",
       "0  Citi  Alpha  Charlie\n",
       "1  Citi  Alpha    Delta\n",
       "2  Citi  Bravo  Charlie\n",
       "3  Citi  Bravo    Delta"
      ]
     },
     "metadata": {},
     "output_type": "display_data"
    }
   ],
   "source": [
    "display(pd.merge(left_df,right_df,how='inner'))"
   ]
  },
  {
   "cell_type": "markdown",
   "metadata": {},
   "source": [
    "See? Each row on the left was matched with every row in the right data with the same key. "
   ]
  },
  {
   "cell_type": "markdown",
   "metadata": {},
   "source": [
    "```{tip}\n",
    "\n",
    "1. Run this helper function before a merge. Does it think you're doing the type of merge you think you are?\n",
    "2. Set the `pd.merge(validate=...` argument to the type of merge you think you're doing. It will produce an error before you start if you're wrong, at which point you should look at your data more.\n",
    "3. Set the `_indicator=True` option inside `pd.merge()`. It\n",
    "\n",
    "```"
   ]
  },
  {
   "cell_type": "code",
   "execution_count": 5,
   "metadata": {},
   "outputs": [],
   "source": [
    "def merge_type(df1,df2,on):\n",
    "    '''\n",
    "    This function could use case test. E.g.: multiple key vars, missing vars \n",
    "    '''\n",
    "    # if there are duplicates, dropping them will shrink the key vector\n",
    "    if len(df1[on]) > len(df1[on].drop_duplicates()):\n",
    "        _l = \"many\"\n",
    "    else:\n",
    "        _l = \"one\"\n",
    "    if len(df2[on]) > len(df2[on].drop_duplicates()):\n",
    "        _r = \"many\"\n",
    "    else:\n",
    "        _r = \"one\"\n",
    "    return \"{}_to_{}\".format(_l,_r)\n",
    "\n"
   ]
  },
  {
   "cell_type": "code",
   "execution_count": 6,
   "metadata": {},
   "outputs": [
    {
     "data": {
      "text/plain": [
       "'many_to_many'"
      ]
     },
     "execution_count": 6,
     "metadata": {},
     "output_type": "execute_result"
    }
   ],
   "source": [
    "merge_type(left_df,right_df,'firm')"
   ]
  },
  {
   "cell_type": "code",
   "execution_count": 7,
   "metadata": {},
   "outputs": [
    {
     "data": {
      "text/html": [
       "<div>\n",
       "<style scoped>\n",
       "    .dataframe tbody tr th:only-of-type {\n",
       "        vertical-align: middle;\n",
       "    }\n",
       "\n",
       "    .dataframe tbody tr th {\n",
       "        vertical-align: top;\n",
       "    }\n",
       "\n",
       "    .dataframe thead th {\n",
       "        text-align: right;\n",
       "    }\n",
       "</style>\n",
       "<table border=\"1\" class=\"dataframe\">\n",
       "  <thead>\n",
       "    <tr style=\"text-align: right;\">\n",
       "      <th></th>\n",
       "      <th>firm</th>\n",
       "      <th>v1</th>\n",
       "      <th>v2</th>\n",
       "      <th>_merge</th>\n",
       "    </tr>\n",
       "  </thead>\n",
       "  <tbody>\n",
       "    <tr>\n",
       "      <th>0</th>\n",
       "      <td>Citi</td>\n",
       "      <td>Alpha</td>\n",
       "      <td>Charlie</td>\n",
       "      <td>both</td>\n",
       "    </tr>\n",
       "    <tr>\n",
       "      <th>1</th>\n",
       "      <td>Citi</td>\n",
       "      <td>Alpha</td>\n",
       "      <td>Delta</td>\n",
       "      <td>both</td>\n",
       "    </tr>\n",
       "    <tr>\n",
       "      <th>2</th>\n",
       "      <td>Citi</td>\n",
       "      <td>Bravo</td>\n",
       "      <td>Charlie</td>\n",
       "      <td>both</td>\n",
       "    </tr>\n",
       "    <tr>\n",
       "      <th>3</th>\n",
       "      <td>Citi</td>\n",
       "      <td>Bravo</td>\n",
       "      <td>Delta</td>\n",
       "      <td>both</td>\n",
       "    </tr>\n",
       "  </tbody>\n",
       "</table>\n",
       "</div>"
      ],
      "text/plain": [
       "   firm     v1       v2 _merge\n",
       "0  Citi  Alpha  Charlie   both\n",
       "1  Citi  Alpha    Delta   both\n",
       "2  Citi  Bravo  Charlie   both\n",
       "3  Citi  Bravo    Delta   both"
      ]
     },
     "metadata": {},
     "output_type": "display_data"
    }
   ],
   "source": [
    "display(pd.merge(left_df,right_df,on='firm',how='inner',\n",
    "                validate='many_to_many',\n",
    "                indicator=True))"
   ]
  },
  {
   "cell_type": "markdown",
   "metadata": {},
   "source": [
    "The post merge variable can be very useful to have around. After a merge, you can count the number of rows from each dataset.\n",
    "\n",
    "```python\n",
    "some_informative_name = pd.merge(df1,df1,indicator=True)\n",
    "some_informative_name['_merge'].value_counts() \n",
    "```\n",
    "\n",
    "In action:"
   ]
  },
  {
   "cell_type": "code",
   "execution_count": 8,
   "metadata": {},
   "outputs": [
    {
     "data": {
      "text/plain": [
       "both          4\n",
       "right_only    1\n",
       "left_only     0\n",
       "Name: _merge, dtype: int64"
      ]
     },
     "execution_count": 8,
     "metadata": {},
     "output_type": "execute_result"
    }
   ],
   "source": [
    "pd.merge(left_df,right_df,on='firm',   how='outer',  # NOTICE! how has changed\n",
    "                validate='many_to_many',\n",
    "                indicator=True\n",
    "        )['_merge'].value_counts()          # ['_merge'].value_counts()  \n"
   ]
  },
  {
   "cell_type": "markdown",
   "metadata": {},
   "source": [
    "## A nice overview\n",
    "\n",
    "The [Python Data Science Handbook](https://jakevdp.github.io/PythonDataScienceHandbook/03.07-merge-and-join.html) has a wonderful breakdown of the mechanics of merging. You should read it!\n"
   ]
  }
 ],
 "metadata": {
  "kernelspec": {
   "display_name": "Python 3",
   "language": "python",
   "name": "python3"
  },
  "language_info": {
   "codemirror_mode": {
    "name": "ipython",
    "version": 3
   },
   "file_extension": ".py",
   "mimetype": "text/x-python",
   "name": "python",
   "nbconvert_exporter": "python",
   "pygments_lexer": "ipython3",
   "version": "3.8.5"
  }
 },
 "nbformat": 4,
 "nbformat_minor": 4
}
