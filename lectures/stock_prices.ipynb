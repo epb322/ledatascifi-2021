{
 "cells": [
  {
   "cell_type": "markdown",
   "metadata": {},
   "source": [
    "# A \"Simple Program\"\n"
   ]
  },
  {
   "cell_type": "code",
   "execution_count": null,
   "metadata": {},
   "outputs": [],
   "source": [
    "#!pip install pandas_datareader # uncomment and run this to install pandas data reader"
   ]
  },
  {
   "cell_type": "code",
   "execution_count": 5,
   "metadata": {
    "tags": [
     "remove_output"
    ]
   },
   "outputs": [
    {
     "name": "stdout",
     "output_type": "stream",
     "text": [
      "                   GME      AMC         BB       BBBY        TSLA         GM  \\\n",
      "Date                                                                           \n",
      "2021-01-04   17.250000   2.0100   6.580000  18.030001  729.770020  40.509998   \n",
      "2021-01-05   17.370001   1.9800   6.770000  19.760000  735.109985  41.660000   \n",
      "2021-01-06   18.360001   2.0100   6.710000  21.030001  755.979980  42.980000   \n",
      "2021-01-07   18.080000   2.0500   7.060000  18.730000  816.039978  43.320000   \n",
      "2021-01-08   17.690001   2.1400   7.560000  18.940001  880.020020  43.060001   \n",
      "2021-01-11   19.940001   2.2000   7.650000  20.490000  811.190002  45.009998   \n",
      "2021-01-12   19.950001   2.2900   7.630000  21.530001  849.440002  47.820000   \n",
      "2021-01-13   31.400000   2.1800   7.440000  23.020000  854.409973  48.730000   \n",
      "2021-01-14   39.910000   2.1800   9.110000  27.340000  845.000000  51.529999   \n",
      "2021-01-15   35.500000   2.3300   9.840000  25.600000  826.159973  49.970001   \n",
      "2021-01-19   39.360001   3.0600  12.350000  25.030001  844.549988  54.840000   \n",
      "2021-01-20   39.119999   2.9700  12.790000  24.969999  850.450012  55.860001   \n",
      "2021-01-21   43.029999   2.9800  12.850000  26.870001  844.989990  55.080002   \n",
      "2021-01-22   65.010002   3.5100  14.040000  30.209999  846.640015  55.400002   \n",
      "2021-01-25   76.790001   4.4200  18.030001  30.680000  880.799988  53.389999   \n",
      "2021-01-26  147.979996   4.9600  18.920000  36.869999  883.090027  52.040001   \n",
      "2021-01-27  347.510010  19.9000  25.100000  52.889999  864.159973  49.340000   \n",
      "2021-01-28  193.600006   8.6300  14.650000  33.639999  835.429993  51.040001   \n",
      "2021-01-29  325.000000  13.2600  14.100000  35.330002  793.530029  50.680000   \n",
      "2021-02-01  225.000000  13.3000  14.630000  30.260000  839.809998  51.509998   \n",
      "2021-02-02   90.000000   7.8200  11.550000  25.379999  872.789978  52.720001   \n",
      "2021-02-03   92.410004   8.9700  12.000000  28.020000  854.690002  54.250000   \n",
      "2021-02-04   53.500000   7.0900  12.150000  27.010000  849.989990  54.130001   \n",
      "2021-02-05   63.770000   6.8300  13.230000  26.540001  852.229980  54.410000   \n",
      "2021-02-08   60.000000   6.1800  13.760000  26.270000  863.419983  56.880001   \n",
      "2021-02-09   50.310001   5.5000  13.430000  27.120001  849.460022  56.060001   \n",
      "2021-02-10   51.200001   5.8000  13.100000  29.020000  804.820007  54.880001   \n",
      "2021-02-11   51.099998   5.6100  12.460000  27.590000  811.659973  53.500000   \n",
      "2021-02-12   52.400002   5.5900  13.040000  28.150000  816.119995  53.599998   \n",
      "2021-02-16   49.509998   5.6500  12.210000  27.780001  796.219971  53.459999   \n",
      "2021-02-17   45.939999   5.5500  11.320000  26.379999  798.150024  52.889999   \n",
      "2021-02-18   40.689999   5.5100  10.940000  26.290001  787.380005  52.160000   \n",
      "2021-02-19   38.878502   5.6284  10.840000  26.700001  780.109985  52.340199   \n",
      "\n",
      "                   VZ  \n",
      "Date                   \n",
      "2021-01-04  58.226662  \n",
      "2021-01-05  57.959522  \n",
      "2021-01-06  58.662003  \n",
      "2021-01-07  58.529999  \n",
      "2021-01-08  57.799999  \n",
      "2021-01-11  57.459999  \n",
      "2021-01-12  57.259998  \n",
      "2021-01-13  57.060001  \n",
      "2021-01-14  57.040001  \n",
      "2021-01-15  57.380001  \n",
      "2021-01-19  57.049999  \n",
      "2021-01-20  57.259998  \n",
      "2021-01-21  57.270000  \n",
      "2021-01-22  57.470001  \n",
      "2021-01-25  58.419998  \n",
      "2021-01-26  56.570000  \n",
      "2021-01-27  55.130001  \n",
      "2021-01-28  55.369999  \n",
      "2021-01-29  54.750000  \n",
      "2021-02-01  54.279999  \n",
      "2021-02-02  54.500000  \n",
      "2021-02-03  54.790001  \n",
      "2021-02-04  55.139999  \n",
      "2021-02-05  55.320000  \n",
      "2021-02-08  55.049999  \n",
      "2021-02-09  55.000000  \n",
      "2021-02-10  54.959999  \n",
      "2021-02-11  54.599998  \n",
      "2021-02-12  54.200001  \n",
      "2021-02-16  54.150002  \n",
      "2021-02-17  56.990002  \n",
      "2021-02-18  56.980000  \n",
      "2021-02-19  56.840000  \n"
     ]
    }
   ],
   "source": [
    "import pandas as pd\n",
    "import numpy as np\n",
    "import pandas_datareader as pdr # you might need to install this (see above)\n",
    "import matplotlib.pyplot as plt\n",
    "import seaborn as sns\n",
    "import statsmodels.api as sm\n",
    "from datetime import datetime\n",
    "\n",
    "# don't copy and paste these lists and number in several places \n",
    "# (which is what the original \"simple program\" did... that's bad programming!)\n",
    "# instead, create a var - if we change it here, it changes everywhere\n",
    "stocks = ['GME','AMC','BB','BBBY','TSLA','GM','VZ']\n",
    "start_yr = datetime(2021, 1, 1)\n",
    "\n",
    "# load\n",
    "stock_prices = pdr.get_data_yahoo(stocks, start=start_yr)\n",
    "stock_prices = stock_prices.filter(like='Adj Close') # reduce to just columns with this in the name\n",
    "stock_prices.columns = stocks # put their tickers as column names\n",
    "print(stock_prices) # print"
   ]
  },
  {
   "cell_type": "code",
   "execution_count": null,
   "metadata": {},
   "outputs": [],
   "source": []
  },
  {
   "cell_type": "code",
   "execution_count": null,
   "metadata": {},
   "outputs": [],
   "source": []
  },
  {
   "cell_type": "code",
   "execution_count": 2,
   "metadata": {
    "tags": [
     "remove_output"
    ]
   },
   "outputs": [
    {
     "data": {
      "text/html": [
       "<div>\n",
       "<style scoped>\n",
       "    .dataframe tbody tr th:only-of-type {\n",
       "        vertical-align: middle;\n",
       "    }\n",
       "\n",
       "    .dataframe tbody tr th {\n",
       "        vertical-align: top;\n",
       "    }\n",
       "\n",
       "    .dataframe thead th {\n",
       "        text-align: right;\n",
       "    }\n",
       "</style>\n",
       "<table border=\"1\" class=\"dataframe\">\n",
       "  <thead>\n",
       "    <tr style=\"text-align: right;\">\n",
       "      <th></th>\n",
       "      <th>Firm</th>\n",
       "      <th>Date</th>\n",
       "      <th>Adj Close</th>\n",
       "    </tr>\n",
       "  </thead>\n",
       "  <tbody>\n",
       "    <tr>\n",
       "      <th>0</th>\n",
       "      <td>AMC</td>\n",
       "      <td>2021-01-04</td>\n",
       "      <td>2.010000</td>\n",
       "    </tr>\n",
       "    <tr>\n",
       "      <th>1</th>\n",
       "      <td>AMC</td>\n",
       "      <td>2021-01-05</td>\n",
       "      <td>1.980000</td>\n",
       "    </tr>\n",
       "    <tr>\n",
       "      <th>2</th>\n",
       "      <td>AMC</td>\n",
       "      <td>2021-01-06</td>\n",
       "      <td>2.010000</td>\n",
       "    </tr>\n",
       "    <tr>\n",
       "      <th>3</th>\n",
       "      <td>AMC</td>\n",
       "      <td>2021-01-07</td>\n",
       "      <td>2.050000</td>\n",
       "    </tr>\n",
       "    <tr>\n",
       "      <th>4</th>\n",
       "      <td>AMC</td>\n",
       "      <td>2021-01-08</td>\n",
       "      <td>2.140000</td>\n",
       "    </tr>\n",
       "    <tr>\n",
       "      <th>...</th>\n",
       "      <td>...</td>\n",
       "      <td>...</td>\n",
       "      <td>...</td>\n",
       "    </tr>\n",
       "    <tr>\n",
       "      <th>226</th>\n",
       "      <td>VZ</td>\n",
       "      <td>2021-02-12</td>\n",
       "      <td>54.200001</td>\n",
       "    </tr>\n",
       "    <tr>\n",
       "      <th>227</th>\n",
       "      <td>VZ</td>\n",
       "      <td>2021-02-16</td>\n",
       "      <td>54.150002</td>\n",
       "    </tr>\n",
       "    <tr>\n",
       "      <th>228</th>\n",
       "      <td>VZ</td>\n",
       "      <td>2021-02-17</td>\n",
       "      <td>56.990002</td>\n",
       "    </tr>\n",
       "    <tr>\n",
       "      <th>229</th>\n",
       "      <td>VZ</td>\n",
       "      <td>2021-02-18</td>\n",
       "      <td>56.980000</td>\n",
       "    </tr>\n",
       "    <tr>\n",
       "      <th>230</th>\n",
       "      <td>VZ</td>\n",
       "      <td>2021-02-19</td>\n",
       "      <td>56.838501</td>\n",
       "    </tr>\n",
       "  </tbody>\n",
       "</table>\n",
       "<p>231 rows × 3 columns</p>\n",
       "</div>"
      ],
      "text/plain": [
       "    Firm       Date  Adj Close\n",
       "0    AMC 2021-01-04   2.010000\n",
       "1    AMC 2021-01-05   1.980000\n",
       "2    AMC 2021-01-06   2.010000\n",
       "3    AMC 2021-01-07   2.050000\n",
       "4    AMC 2021-01-08   2.140000\n",
       "..   ...        ...        ...\n",
       "226   VZ 2021-02-12  54.200001\n",
       "227   VZ 2021-02-16  54.150002\n",
       "228   VZ 2021-02-17  56.990002\n",
       "229   VZ 2021-02-18  56.980000\n",
       "230   VZ 2021-02-19  56.838501\n",
       "\n",
       "[231 rows x 3 columns]"
      ]
     },
     "execution_count": 2,
     "metadata": {},
     "output_type": "execute_result"
    }
   ],
   "source": [
    "# this is wide data... so if we want to create a new variable, we have to do it once for each firm...\n",
    "# what if we have 1000 firms? seems tough to do...\n",
    "# make long/tidy:\n",
    "stock_prices = stock_prices.stack().swaplevel().sort_index().reset_index()\n",
    "stock_prices.columns = ['Firm','Date','Adj Close']\n",
    "stock_prices # print - now that is formatted nicely, like CRSP! \n"
   ]
  },
  {
   "cell_type": "code",
   "execution_count": null,
   "metadata": {},
   "outputs": [],
   "source": []
  },
  {
   "cell_type": "code",
   "execution_count": null,
   "metadata": {
    "tags": [
     "remove_output"
    ]
   },
   "outputs": [],
   "source": [
    "# add return var.\n",
    "# MAKE SURE YOU CREATE THE VARIABLES WITHIN EACH FIRM - use groupby\n",
    "stock_prices['ret'] = stock_prices.groupby('Firm')['Adj Close'].pct_change()\n",
    "stock_prices # print - the first ret for each firm should be missing..."
   ]
  },
  {
   "cell_type": "code",
   "execution_count": null,
   "metadata": {},
   "outputs": [],
   "source": [
    "(stock_prices\n",
    "     .assign(ret=1+stock_prices.ret)              # gross returns\n",
    "     .set_index(['Date','Firm'])['ret'].unstack() # convert to wide format\n",
    "     .cumprod()\n",
    "     .plot()\n",
    ")"
   ]
  }
 ],
 "metadata": {
  "celltoolbar": "Tags",
  "kernelspec": {
   "display_name": "Python 3",
   "language": "python",
   "name": "python3"
  },
  "language_info": {
   "codemirror_mode": {
    "name": "ipython",
    "version": 3
   },
   "file_extension": ".py",
   "mimetype": "text/x-python",
   "name": "python",
   "nbconvert_exporter": "python",
   "pygments_lexer": "ipython3",
   "version": "3.8.5"
  }
 },
 "nbformat": 4,
 "nbformat_minor": 4
}
