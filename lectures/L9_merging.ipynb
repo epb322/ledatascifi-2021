{
 "cells": [
  {
   "cell_type": "markdown",
   "metadata": {
    "slideshow": {
     "slide_type": "notes"
    }
   },
   "source": [
    "Teaching notes\n",
    "\n",
    "This year:\n"
   ]
  },
  {
   "cell_type": "markdown",
   "metadata": {
    "slideshow": {
     "slide_type": "slide"
    }
   },
   "source": [
    "# Hello! Today:\n",
    "\n",
    "1. Before class: \n",
    "    - Fetch your class notes repo and the lecture repo\n",
    "    - Open in JLab: your answers for A2, and a ipynb for taking notes\n",
    "2. Announcements\n",
    "    - ASGN: A2 grades posted, A3 reviews started, A4 posting today\n",
    "    - A2: 80%, no shenanigans needed **A tribute to hard work - bravo**\n",
    "    - Readme, gitignore, etc: Important good habits, near 100% avg\n",
    "    - How many of you are using chains as you code? `.pipe(csnap)` trick  \n",
    "\n",
    "_I'm going to record, but remember participation credits_"
   ]
  },
  {
   "cell_type": "markdown",
   "metadata": {
    "slideshow": {
     "slide_type": "slide"
    }
   },
   "source": [
    "## Today\n",
    "\n",
    "1. Finishing up visualizations\n",
    "1. Merging\n",
    "1. Missing values"
   ]
  },
  {
   "cell_type": "markdown",
   "metadata": {
    "slideshow": {
     "slide_type": "slide"
    }
   },
   "source": [
    "## Viz\n",
    "\n",
    "### Warmup - thinking about viz\n",
    "\n",
    "How would you improve the catplot/pandas count of [industries on 3.3.4 of the website](https://ledatascifi.github.io/ledatascifi-2021/content/03/04e-visualEDA.html#distributions)\n",
    "\n",
    "_Yes: I see the left navbar has a white background. A dependency changed a setting. I'll need to look into it._"
   ]
  },
  {
   "cell_type": "markdown",
   "metadata": {
    "slideshow": {
     "slide_type": "subslide"
    }
   },
   "source": [
    "### Good visuals\n",
    "\n",
    "3.3.5 and the [resource page's Visualization references](https://ledatascifi.github.io/ledatascifi-2021/content/about/resources.html#resources-tutorials-and-data)\n",
    "\n",
    "Check out \n",
    "1. A quick hit of Do's and Don'ts (would have helped on the warmup)\n",
    "2. The fixer upper"
   ]
  },
  {
   "cell_type": "markdown",
   "metadata": {
    "slideshow": {
     "slide_type": "subslide"
    }
   },
   "source": [
    "**Context - starting point:** Remember, the class's [first two objectives](../../about/objectives) are to:\n",
    "\n",
    "> 1. obtain, explore, groom, visualize, and analyze data\n",
    "> 2. make all of that reproducible, reusable, and shareable\n",
    "\n",
    "![](https://media.giphy.com/media/R2m2NzVxQ3pbG/giphy.gif) "
   ]
  },
  {
   "cell_type": "markdown",
   "metadata": {
    "slideshow": {
     "slide_type": "subslide"
    }
   },
   "source": [
    "**Context - right now:** At this point, we've covered/added skills \n",
    "- GitHub for collaboration and sharing\n",
    "- GitHub for project management/development and version control\n",
    "- Python: numpy, pandas, seaborn\n",
    "- Datasets: CRSP (stock prices), Compustat (firm financial statements), FRED (macroeconomic and regional time series data)\n",
    "- Data scraping: Yes, you've done this already!\n",
    "- Finance: Downloading stock prices and compounding returns over arbitrary time spans"
   ]
  },
  {
   "cell_type": "markdown",
   "metadata": {
    "slideshow": {
     "slide_type": "subslide"
    }
   },
   "source": [
    "We need to talk about a few more issues before we get properly ambitious.\n",
    "\n",
    "![](https://media.giphy.com/media/kdFujikoYAdfgQQVrs/giphy.gif)"
   ]
  },
  {
   "cell_type": "markdown",
   "metadata": {
    "slideshow": {
     "slide_type": "subslide"
    }
   },
   "source": [
    "**Context - going forward:** We need to introduce a few more skills before we start _really_ running analytical models. \n",
    "\n",
    "1. Merging datasets \n",
    "2. What to do with missing values?\n",
    "3. What to do with outliers?\n",
    "3. How to get a world of data off the world wide web\n",
    "4. Working with string data\n",
    "\n",
    "This week: 1-3\n",
    "\n",
    "Next three weks: 4-5"
   ]
  },
  {
   "cell_type": "markdown",
   "metadata": {
    "slideshow": {
     "slide_type": "slide"
    }
   },
   "source": [
    "## Merging\n",
    "\n",
    "1. Parameters of the merge function+ practice\n",
    "2. Tips / best practices\n",
    "\n"
   ]
  },
  {
   "cell_type": "markdown",
   "metadata": {
    "slideshow": {
     "slide_type": "subslide"
    }
   },
   "source": [
    "## The merge function\n",
    "\n",
    "In your notebook:\n",
    "\n",
    "```python\n",
    "import pandas as pd\n",
    "left_df = pd.DataFrame({\n",
    "                    'firm': ['Accenture','Citi','GS'],\n",
    "                    'varA': ['A1', 'A2', 'A3']})\n",
    "\n",
    "right_df = pd.DataFrame({\n",
    "                    'firm': ['GS','Chase','WF'],\n",
    "                    'varB': ['B1', 'B2', 'B3'],\n",
    "                    'varc': ['C1', 'C2', 'C3']})    \n",
    "```\n",
    "\n",
    "Let use shift+tab to talk about the parameters. (Except how is next slide)\n"
   ]
  },
  {
   "cell_type": "markdown",
   "metadata": {
    "slideshow": {
     "slide_type": "subslide"
    }
   },
   "source": [
    "## `how` : left v. right v. inner v. outer\n",
    "\n",
    "| option | observations in resulting dataset |\n",
    "| :--- | :--- |\n",
    "| `how = \"inner\"`| Keys (`on` variables) that are in both datasets |\n",
    "| `how = \"left\"` | \"inner\" + all unmatched obs in left  |\n",
    "| `how = \"right\"` | \"inner\" + all unmatched obs in right |\n",
    "| `how = \"outer\"` | \"inner\" + all unmatched obs in left and right |\n",
    "\n",
    "Let's practice on our left and right datasets\n",
    "\n",
    "Reading: Tips, Categories of Joins"
   ]
  },
  {
   "cell_type": "markdown",
   "metadata": {
    "slideshow": {
     "slide_type": "subslide"
    }
   },
   "source": [
    "## Merging tips\n",
    "\n",
    "1. **Pick the \"keys\" you'll merge on**\n",
    "    - what are the obs levels in each data\n",
    "    - Ex: firm  merge, or firm-year merge?\n",
    "1. **Before (before!) your merge, examine the keys**\n",
    "1. **Always specify `how`, `on`, `indicator`, and `validate` inside `pd.merge()`**\n",
    "1. **After the merge**, check that it did what you expected, and give the resulting dataframe a _good_ name. **Don't name it \"merged\"!!!**\n"
   ]
  },
  {
   "cell_type": "markdown",
   "metadata": {
    "slideshow": {
     "slide_type": "slide"
    }
   },
   "source": [
    "## Missing values\n",
    "\n",
    "These pandas functions can be very useful:\n",
    "\n",
    "- `fillna` - any value (strings included) you want, back fill, forward, fill, and more\n",
    "- `dropna` - might not be explicitly needed, some functions ignore NaNs, but some don't. I tend to drop only as needed for a given estimation, and only temporarily. \n",
    "- `replace` - some datasets use a certain number to indicate missing data (i.e. -99). Convert these to NaN with this function.\n",
    "- `interpolate` - e.g. use values in surrounding time periods to fill in gaps\n",
    "- Deduce. Suppose PPE this year is missing. $PPE_t = PPE_{t-1} + CAPX_t - DP_t $\n"
   ]
  },
  {
   "cell_type": "markdown",
   "metadata": {
    "slideshow": {
     "slide_type": "subslide"
    }
   },
   "source": [
    "```python\n",
    "import pandas as pd\n",
    "import numpy as np\n",
    "\n",
    "df = pd.DataFrame({\"A\":[12, 4, 5, None, 1], \n",
    "                   \"B\":[None, 2, 54, 3, None], \n",
    "                   \"C\":[20, 16, None, 3, 8], \n",
    "                   \"D\":[14, 3, None, None, 6]}) \n",
    "\n",
    "_df1 = df.copy()\n",
    "_df1['firm'] = 1\n",
    "_df1['date'] = _df1.index\n",
    "\n",
    "_df2 = df.copy()\n",
    "_df2['firm'] = 2\n",
    "_df2['date'] = _df2.index\n",
    "\n",
    "df2 = _df1.append(_df2)\n",
    "```"
   ]
  },
  {
   "cell_type": "markdown",
   "metadata": {
    "slideshow": {
     "slide_type": "subslide"
    }
   },
   "source": [
    "**Questions for `df`**:\n",
    "\n",
    "1. Fill all missing values with -1\n",
    "1. Fill missing values for variable \"B\" with -1\n",
    "1. Fill all values with the mean for the variable\n",
    "1. Fill all values with the median for the variable\n",
    "1. Fill values by taking the most recent non-missing prior value\n",
    "\n",
    "**Questions for `df2`**:\n",
    "\n",
    "- Carry missing values forward without carrying values from firm 1 to firm 2\n",
    "- Fill missing values with the average for firms on that date"
   ]
  },
  {
   "cell_type": "markdown",
   "metadata": {
    "slideshow": {
     "slide_type": "subslide"
    }
   },
   "source": [
    "### Which option should I choose to deal with my missing values?\n",
    "\n",
    "**You should focus on the whys and hows of dealing with missing data rather than mechanics.**\n",
    "\n",
    "Example: With firm level data that investment analysts deal with, the most common approach is \n",
    "- to keep all valid data throughout\n",
    "- for each test you run, use all observations that have no missing values for the variables of interest\n",
    "\n",
    "I rarely impute missing data"
   ]
  },
  {
   "cell_type": "markdown",
   "metadata": {
    "slideshow": {
     "slide_type": "subslide"
    }
   },
   "source": [
    "## Next class\n",
    "\n",
    "Data wrangling outro \n",
    "\n",
    "### Student demos \n",
    "- Task: I'll email after class\n",
    "- Morning: Madison (@madisonlsmith) and Linh (@Linhphung411)\n",
    "- Afternoon: Fernando (@fernandotamayog) and Deven (@dea222)\n",
    "\n",
    "\t"
   ]
  },
  {
   "cell_type": "markdown",
   "metadata": {
    "slideshow": {
     "slide_type": "slide"
    }
   },
   "source": [
    "## Summary \n",
    "\n",
    "We covered\n",
    "- Time permitting: Some high level tips for good viz\n",
    "- Merging intro\n",
    "- Missing values\n",
    "\n",
    "![](https://media.giphy.com/media/H7x1H0veAJlo4/giphy.gif)\n",
    "\n",
    "#### Shut down: Restart your kernal and run code, save all open files, close JLab, commit and push your class notes repo."
   ]
  }
 ],
 "metadata": {
  "kernelspec": {
   "display_name": "Python 3",
   "language": "python",
   "name": "python3"
  },
  "language_info": {
   "codemirror_mode": {
    "name": "ipython",
    "version": 3
   },
   "file_extension": ".py",
   "mimetype": "text/x-python",
   "name": "python",
   "nbconvert_exporter": "python",
   "pygments_lexer": "ipython3",
   "version": "3.8.5"
  }
 },
 "nbformat": 4,
 "nbformat_minor": 4
}
